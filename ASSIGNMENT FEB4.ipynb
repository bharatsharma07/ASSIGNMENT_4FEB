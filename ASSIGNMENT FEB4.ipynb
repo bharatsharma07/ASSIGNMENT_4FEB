{
 "cells": [
  {
   "cell_type": "markdown",
   "id": "e1960576",
   "metadata": {},
   "source": [
    "#ASSIGNMENT 4"
   ]
  },
  {
   "cell_type": "code",
   "execution_count": 2,
   "id": "ca7f327e",
   "metadata": {},
   "outputs": [],
   "source": [
    "#ANSWER1"
   ]
  },
  {
   "cell_type": "code",
   "execution_count": 11,
   "id": "92dd62cd",
   "metadata": {},
   "outputs": [],
   "source": [
    "li=[(\"Sachin Tendulkar\",34357),(\"Ricky Ponting\",27483),(\"Jack Kallis\",25534),(\"Virat Kohli\",24936)]"
   ]
  },
  {
   "cell_type": "code",
   "execution_count": 22,
   "id": "b2611e3d",
   "metadata": {},
   "outputs": [
    {
     "data": {
      "text/plain": [
       "[('Virat Kohli', 24936),\n",
       " ('Jack Kallis', 25534),\n",
       " ('Ricky Ponting', 27483),\n",
       " ('Sachin Tendulkar', 34357)]"
      ]
     },
     "execution_count": 22,
     "metadata": {},
     "output_type": "execute_result"
    }
   ],
   "source": [
    "sorted(li,key=lambda x:x[1])"
   ]
  },
  {
   "cell_type": "code",
   "execution_count": 23,
   "id": "45976f1f",
   "metadata": {},
   "outputs": [],
   "source": [
    "#ANSWER 2"
   ]
  },
  {
   "cell_type": "code",
   "execution_count": 30,
   "id": "1baafbb5",
   "metadata": {},
   "outputs": [],
   "source": [
    "li_1=[1,2,3,4,5,6,7,8,9,10]"
   ]
  },
  {
   "cell_type": "code",
   "execution_count": 31,
   "id": "363b8bb0",
   "metadata": {},
   "outputs": [
    {
     "data": {
      "text/plain": [
       "[1, 4, 9, 16, 25, 36, 49, 64, 81, 100]"
      ]
     },
     "execution_count": 31,
     "metadata": {},
     "output_type": "execute_result"
    }
   ],
   "source": [
    "list(map(lambda x:x**2,li_1))"
   ]
  },
  {
   "cell_type": "code",
   "execution_count": 29,
   "id": "a5f6971d",
   "metadata": {},
   "outputs": [],
   "source": [
    "#ANSWER 3"
   ]
  },
  {
   "cell_type": "code",
   "execution_count": 32,
   "id": "aa6a5091",
   "metadata": {},
   "outputs": [],
   "source": [
    "string=[1,2,3,4,5,6,7,8,9,10]"
   ]
  },
  {
   "cell_type": "code",
   "execution_count": 41,
   "id": "218109e5",
   "metadata": {},
   "outputs": [
    {
     "data": {
      "text/plain": [
       "('1', '2', '3', '4', '5', '6', '7', '8', '9', '10')"
      ]
     },
     "execution_count": 41,
     "metadata": {},
     "output_type": "execute_result"
    }
   ],
   "source": [
    "tuple(map(lambda x:str(x),string))"
   ]
  },
  {
   "cell_type": "code",
   "execution_count": 42,
   "id": "6bf3e0c9",
   "metadata": {},
   "outputs": [],
   "source": [
    "#ANSWER 4"
   ]
  },
  {
   "cell_type": "code",
   "execution_count": 43,
   "id": "4ebf3362",
   "metadata": {},
   "outputs": [],
   "source": [
    "from functools import reduce"
   ]
  },
  {
   "cell_type": "code",
   "execution_count": 53,
   "id": "fff4f39a",
   "metadata": {},
   "outputs": [],
   "source": [
    "li2=range(1,26)"
   ]
  },
  {
   "cell_type": "code",
   "execution_count": 57,
   "id": "40b221a2",
   "metadata": {},
   "outputs": [],
   "source": [
    "product=reduce(lambda x,y:x*y,li2)"
   ]
  },
  {
   "cell_type": "code",
   "execution_count": 58,
   "id": "a97106db",
   "metadata": {},
   "outputs": [
    {
     "data": {
      "text/plain": [
       "15511210043330985984000000"
      ]
     },
     "execution_count": 58,
     "metadata": {},
     "output_type": "execute_result"
    }
   ],
   "source": [
    "product"
   ]
  },
  {
   "cell_type": "code",
   "execution_count": 59,
   "id": "d55567c1",
   "metadata": {},
   "outputs": [],
   "source": [
    "#ANSWER 5\n",
    "li3=[2,3,6,9,27,60,90,120,55,46]"
   ]
  },
  {
   "cell_type": "code",
   "execution_count": 60,
   "id": "714479c3",
   "metadata": {},
   "outputs": [
    {
     "data": {
      "text/plain": [
       "[6, 60, 90, 120]"
      ]
     },
     "execution_count": 60,
     "metadata": {},
     "output_type": "execute_result"
    }
   ],
   "source": [
    "list(filter(lambda x:x%2==0 and x%3==0,li3))"
   ]
  },
  {
   "cell_type": "code",
   "execution_count": 62,
   "id": "56f60f2d",
   "metadata": {},
   "outputs": [],
   "source": [
    "#ANSWER 6 \n",
    "string2=[\"python\",\"php\",\"aba\",\"radar\",\"level\"]"
   ]
  },
  {
   "cell_type": "code",
   "execution_count": 64,
   "id": "16aca2c1",
   "metadata": {},
   "outputs": [
    {
     "data": {
      "text/plain": [
       "['php', 'aba', 'radar', 'level']"
      ]
     },
     "execution_count": 64,
     "metadata": {},
     "output_type": "execute_result"
    }
   ],
   "source": [
    "list(filter(lambda x:x==x[::-1],string2))"
   ]
  },
  {
   "cell_type": "code",
   "execution_count": null,
   "id": "e1e5d605",
   "metadata": {},
   "outputs": [],
   "source": []
  }
 ],
 "metadata": {
  "kernelspec": {
   "display_name": "Python 3 (ipykernel)",
   "language": "python",
   "name": "python3"
  },
  "language_info": {
   "codemirror_mode": {
    "name": "ipython",
    "version": 3
   },
   "file_extension": ".py",
   "mimetype": "text/x-python",
   "name": "python",
   "nbconvert_exporter": "python",
   "pygments_lexer": "ipython3",
   "version": "3.9.13"
  }
 },
 "nbformat": 4,
 "nbformat_minor": 5
}
